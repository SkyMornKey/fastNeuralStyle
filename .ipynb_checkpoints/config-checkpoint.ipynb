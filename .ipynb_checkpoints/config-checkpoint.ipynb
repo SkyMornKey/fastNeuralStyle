{
 "cells": [
  {
   "cell_type": "markdown",
   "metadata": {},
   "source": [
    "# Network Configration"
   ]
  },
  {
   "cell_type": "code",
   "execution_count": 1,
   "metadata": {
    "code_folding": []
   },
   "outputs": [],
   "source": [
    "class Config():\n",
    "    # data path\n",
    "    root_data = './datasets/'  # training dataset\n",
    "    root_model = None  # pre-trained saves\n",
    "    path_style = './style_8.jpg'\n",
    "\n",
    "    # network parameters\n",
    "    img_size = 256  # image size for training\n",
    "    batch_size = 8  # batch size\n",
    "    lr = 1e-3  # learning rate\n",
    "    max_epoch = 3  # max epoch\n",
    "    w_content = 1  # weight of content loss, set to 1 should be fine\n",
    "    w_style = 1e5  # weight of style loss, set to 1e4~1e6 for most style images\n",
    "\n",
    "    num_workers = 4  # number of threads\n",
    "    freq_plot = 100  # plot frequen"
   ]
  }
 ],
 "metadata": {
  "kernelspec": {
   "display_name": "Python 3",
   "language": "python",
   "name": "python3"
  },
  "language_info": {
   "codemirror_mode": {
    "name": "ipython",
    "version": 3
   },
   "file_extension": ".py",
   "mimetype": "text/x-python",
   "name": "python",
   "nbconvert_exporter": "python",
   "pygments_lexer": "ipython3",
   "version": "3.6.5"
  },
  "toc": {
   "nav_menu": {},
   "number_sections": true,
   "sideBar": true,
   "skip_h1_title": true,
   "title_cell": "Table of Contents",
   "title_sidebar": "Contents",
   "toc_cell": false,
   "toc_position": {},
   "toc_section_display": true,
   "toc_window_display": false
  },
  "varInspector": {
   "cols": {
    "lenName": 16,
    "lenType": 16,
    "lenVar": 40
   },
   "kernels_config": {
    "python": {
     "delete_cmd_postfix": "",
     "delete_cmd_prefix": "del ",
     "library": "var_list.py",
     "varRefreshCmd": "print(var_dic_list())"
    },
    "r": {
     "delete_cmd_postfix": ") ",
     "delete_cmd_prefix": "rm(",
     "library": "var_list.r",
     "varRefreshCmd": "cat(var_dic_list()) "
    }
   },
   "types_to_exclude": [
    "module",
    "function",
    "builtin_function_or_method",
    "instance",
    "_Feature"
   ],
   "window_display": false
  }
 },
 "nbformat": 4,
 "nbformat_minor": 2
}
