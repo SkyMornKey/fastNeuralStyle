{
 "cells": [
  {
   "cell_type": "markdown",
   "metadata": {},
   "source": [
    "# Fast Style Tranfer"
   ]
  },
  {
   "cell_type": "markdown",
   "metadata": {
    "heading_collapsed": true
   },
   "source": [
    "## Includes"
   ]
  },
  {
   "cell_type": "code",
   "execution_count": null,
   "metadata": {
    "code_folding": [],
    "hidden": true
   },
   "outputs": [],
   "source": [
    "import os, sys\n",
    "import ipdb\n",
    "import torch as t\n",
    "import torchvision as tv\n",
    "import torchnet as tnt\n",
    "from torch.nn import functional as fun\n",
    "from tqdm import tqdm_notebook as tqdm\n",
    "\n",
    "# add paths for all sub-folders\n",
    "paths = [root for root, dirs, files in os.walk(\".\")]\n",
    "\n",
    "for item in paths:\n",
    "    sys.path.append(item)\n",
    "\n",
    "from ipynb.fs.full.config import Config\n",
    "from ipynb.fs.full.module import BasicModule\n",
    "from ipynb.fs.full.monitor import Visualizer\n",
    "from ipynb.fs.full.network import LossNet, TransformNet\n",
    "from ipynb.fs.full.util import *"
   ]
  },
  {
   "cell_type": "markdown",
   "metadata": {
    "heading_collapsed": true
   },
   "source": [
    "## Initialization"
   ]
  },
  {
   "cell_type": "code",
   "execution_count": null,
   "metadata": {
    "code_folding": [],
    "hidden": true
   },
   "outputs": [],
   "source": [
    "# enable debug\n",
    "%pdb off\n",
    "\n",
    "opt = Config()\n",
    "vis = Visualizer()\n",
    "device = t.device(\"cuda\" if t.cuda.is_available() else \"cpu\")\n",
    "\n",
    "# load data\n",
    "transforms = tv.transforms.Compose([\n",
    "    tv.transforms.Resize(opt.img_size),\n",
    "    tv.transforms.CenterCrop(opt.img_size),\n",
    "    tv.transforms.ToTensor(),\n",
    "    tv.transforms.Lambda(lambda x: x * 255)\n",
    "])\n",
    "dataset = tv.datasets.ImageFolder(opt.root_data, transforms)\n",
    "dataloader = t.utils.data.DataLoader(\n",
    "    dataset, opt.batch_size, shuffle=True, num_workers=opt.num_workers)\n",
    "\n",
    "# define model\n",
    "vgg = LossNet(requires_grad=False).to(device)  # loss net, no auto-grad\n",
    "model = TransformNet().to(device)  # transform net\n",
    "\n",
    "# load pre-trained model if necessary\n",
    "if opt.root_model:\n",
    "    model.load(opt.root_model, device=device)\n",
    "\n",
    "# optimizer\n",
    "optimizer = t.optim.Adam(model.parameters(), opt.lr)\n",
    "\n",
    "# loss meters\n",
    "meter_style = tnt.meter.AverageValueMeter()\n",
    "meter_content = tnt.meter.AverageValueMeter()\n",
    "\n",
    "# load style sample image\n",
    "img_style = loadStyleImg(opt.path_style).to(device)\n",
    "\n",
    "# caculate gram matrix of style image\n",
    "features_style = vgg(img_style)\n",
    "gram_style = [getGramMatrix(feature) for feature in features_style]"
   ]
  },
  {
   "cell_type": "markdown",
   "metadata": {},
   "source": [
    "## Training entry"
   ]
  },
  {
   "cell_type": "code",
   "execution_count": null,
   "metadata": {
    "code_folding": [
     2
    ]
   },
   "outputs": [],
   "source": [
    "data_len = round(len(dataset) / opt.batch_size)\n",
    "\n",
    "for epoch in range(opt.max_epoch):\n",
    "    meter_style.reset()\n",
    "    meter_content.reset()\n",
    "\n",
    "    for index, (img_batch, _) in tqdm(\n",
    "            enumerate(dataloader), desc='epoch ' + str(epoch), total=data_len):\n",
    "\n",
    "        # training\n",
    "        optimizer.zero_grad()\n",
    "\n",
    "        img_batch = img_batch.to(device)\n",
    "        img_result = model(img_batch)\n",
    "\n",
    "        # compute loss\n",
    "        features_in = vgg(normalizeBatch(img_batch))\n",
    "        features_out = vgg(normalizeBatch(img_result))\n",
    "\n",
    "        loss_content = opt.w_content * fun.mse_loss(features_in.relu3_3,\n",
    "                                                    features_out.relu3_3)\n",
    "        loss_style = 0.0\n",
    "        for layer_out, gram_ref in zip(features_out, gram_style):\n",
    "            gram_out = getGramMatrix(layer_out)\n",
    "            loss_style += fun.mse_loss(gram_out, gram_ref.expand_as(gram_out))\n",
    "        loss_style *= opt.w_style\n",
    "        loss_total = loss_content + loss_style\n",
    "\n",
    "        # backpropagation\n",
    "        loss_total.backward()\n",
    "        optimizer.step()\n",
    "\n",
    "        # smooth loss for logging\n",
    "        meter_content.add(loss_content.item())\n",
    "        meter_style.add(loss_style.item())\n",
    "\n",
    "        # visualize results\n",
    "        if (index + 1) % opt.freq_plot == 0:\n",
    "            # plot loss\n",
    "            vis.plot('Content Loss', meter_content.value()[0])\n",
    "            vis.plot('Style Loss', meter_style.value()[0])\n",
    "\n",
    "            # show image\n",
    "            vis.img('input', (img_batch[0]))\n",
    "            vis.img('output', (img_result[0]))\n",
    "\n",
    "    # save model\n",
    "    model.save()"
   ]
  }
 ],
 "metadata": {
  "kernelspec": {
   "display_name": "Python 3",
   "language": "python",
   "name": "python3"
  },
  "language_info": {
   "codemirror_mode": {
    "name": "ipython",
    "version": 3
   },
   "file_extension": ".py",
   "mimetype": "text/x-python",
   "name": "python",
   "nbconvert_exporter": "python",
   "pygments_lexer": "ipython3",
   "version": "3.6.5"
  },
  "toc": {
   "nav_menu": {},
   "number_sections": true,
   "sideBar": true,
   "skip_h1_title": true,
   "title_cell": "Table of Contents",
   "title_sidebar": "Contents",
   "toc_cell": false,
   "toc_position": {},
   "toc_section_display": true,
   "toc_window_display": false
  },
  "varInspector": {
   "cols": {
    "lenName": 16,
    "lenType": 16,
    "lenVar": 40
   },
   "kernels_config": {
    "python": {
     "delete_cmd_postfix": "",
     "delete_cmd_prefix": "del ",
     "library": "var_list.py",
     "varRefreshCmd": "print(var_dic_list())"
    },
    "r": {
     "delete_cmd_postfix": ") ",
     "delete_cmd_prefix": "rm(",
     "library": "var_list.r",
     "varRefreshCmd": "cat(var_dic_list()) "
    }
   },
   "types_to_exclude": [
    "module",
    "function",
    "builtin_function_or_method",
    "instance",
    "_Feature"
   ],
   "window_display": false
  }
 },
 "nbformat": 4,
 "nbformat_minor": 2
}
